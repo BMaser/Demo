{
 "cells": [
  {
   "cell_type": "markdown",
   "metadata": {
    "id": "puMWS_EOgXm-"
   },
   "source": [
    "# Second demo \n",
    "\n",
    "\n",
    "# Level: Advance\n",
    "\n",
    "\n",
    "# Classification of fashion article images using a custom model with custom layers (Residual Network)"
   ]
  },
  {
   "cell_type": "markdown",
   "metadata": {
    "id": "_5he7gqvgXnK"
   },
   "source": [
    "\n",
    "Following end-to-end workflow disceminates images of Fashion-MNIST dataset. \n",
    "\n",
    "\n",
    "#### The goals to write the following programs are as follow:\n",
    "\n",
    "1. Implementing model subclassing API with custom layers to create a residual network architecture\n",
    "\n",
    "2. Implementing custom training loop\n",
    "\n",
    "3. Implementing the automatic differentiation tool in Tensorflow to calculate the gradients for backpropagation.\n",
    "\n",
    "\n",
    "##### Database: Fashion-MNIST dataset\n",
    "\n",
    " * train-labels = \"https://storage.googleapis.com/tensorflow/tf-keras-datasets/train-labels-idx1-ubyte.gz\"\n",
    "\n",
    " * train-images = \"https://storage.googleapis.com/tensorflow/tf-keras-datasets/train-images-idx3-ubyte.gz\"\n",
    "\n",
    " * test_labels = \"https://storage.googleapis.com/tensorflow/tf-keras-datasets/t10k-labels-idx1-ubyte.gz\"\n",
    "\n",
    " * test_images = \"https://storage.googleapis.com/tensorflow/tf-keras-datasets/t10k-images-idx3-ubyte.gz\"\n",
    "\n"
   ]
  },
  {
   "cell_type": "code",
   "execution_count": 1,
   "metadata": {
    "id": "FF7Day-7gXnM"
   },
   "outputs": [],
   "source": [
    "\n",
    "import tensorflow as tf\n",
    "import numpy as np\n",
    "from tensorflow.keras.datasets import fashion_mnist\n",
    "from tensorflow.keras.utils import to_categorical\n",
    "import matplotlib.pyplot as plt\n",
    "import time\n",
    "from tensorflow.keras.models import Model\n",
    "from tensorflow.keras.layers import Layer, BatchNormalization, Conv2D, Dense, Flatten, Add , Softmax, concatenate\n"
   ]
  },
  {
   "cell_type": "code",
   "execution_count": null,
   "metadata": {
    "id": "ZeUeiaBKgXnO",
    "outputId": "6bc88289-c3ea-4e8f-9aa7-7b6ee0a8cfc9"
   },
   "outputs": [
    {
     "name": "stdout",
     "output_type": "stream",
     "text": [
      "Downloading data from https://storage.googleapis.com/tensorflow/tf-keras-datasets/train-labels-idx1-ubyte.gz\n",
      "32768/29515 [=================================] - 0s 0us/step\n",
      "Downloading data from https://storage.googleapis.com/tensorflow/tf-keras-datasets/train-images-idx3-ubyte.gz\n",
      "26427392/26421880 [==============================] - 0s 0us/step\n",
      "Downloading data from https://storage.googleapis.com/tensorflow/tf-keras-datasets/t10k-labels-idx1-ubyte.gz\n",
      "8192/5148 [===============================================] - 0s 0us/step\n",
      "Downloading data from https://storage.googleapis.com/tensorflow/tf-keras-datasets/t10k-images-idx3-ubyte.gz\n",
      "4423680/4422102 [==============================] - 0s 0us/step\n"
     ]
    }
   ],
   "source": [
    "# Loading the Fashion-MNIST dataset\n",
    "\n",
    "(train_images, train_labels), (test_images, test_labels) = fashion_mnist.load_data()\n",
    "\n",
    "train_images = train_images.astype(np.float32)\n",
    "test_images = test_images.astype(np.float32)\n",
    "\n",
    "train_images = train_images[:5000] / 255.\n",
    "train_labels = train_labels[:5000]\n",
    "\n",
    "test_images = test_images / 255.\n",
    "\n",
    "train_images = train_images[..., np.newaxis]\n",
    "test_images = test_images[..., np.newaxis]"
   ]
  },
  {
   "cell_type": "code",
   "execution_count": null,
   "metadata": {
    "id": "9gds9BiUgXnP"
   },
   "outputs": [],
   "source": [
    "# Creating Dataset objects for the training and test sets\n",
    "\n",
    "train_dataset = tf.data.Dataset.from_tensor_slices((train_images, train_labels))\n",
    "train_dataset = train_dataset.batch(32)\n",
    "\n",
    "test_dataset = tf.data.Dataset.from_tensor_slices((test_images, test_labels))\n",
    "test_dataset = test_dataset.batch(32)"
   ]
  },
  {
   "cell_type": "code",
   "execution_count": null,
   "metadata": {
    "id": "oAmQ7oY-gXnQ"
   },
   "outputs": [],
   "source": [
    "# Getting dataset labels\n",
    "\n",
    "image_labels = ['T-shirt/top', 'Trouser', 'Pullover', 'Dress', 'Coat', 'Sandal', 'Shirt', 'Sneaker', 'Bag', 'Ankle boot']"
   ]
  },
  {
   "cell_type": "code",
   "execution_count": 2,
   "metadata": {
    "id": "BAcAO5c_gXnQ"
   },
   "outputs": [],
   "source": [
    "\n",
    "\"\"\"\n",
    "\n",
    "Creating a first custom layer: Block_A\n",
    "\n",
    "\"\"\"\n",
    "\n",
    "class Block_A(Layer):\n",
    "    \n",
    "    def __init__(self, **kwargs):\n",
    "        super(Block_A, self).__init__(**kwargs)\n",
    "        \n",
    "        \n",
    "    def build(self, input_shape):\n",
    "\n",
    "        self.blkA_BN_1 = BatchNormalization (input_shape= input_shape )\n",
    "        \n",
    "        self.blkA_Conv2d_1 = Conv2D(input_shape[-1], (3,3) ,padding= 'SAME',name='blkA_Conv2d_1')\n",
    "        \n",
    "        self.blkA_BN_2 = BatchNormalization()\n",
    "        \n",
    "        self.blkA_Conv2d_2 = Conv2D(input_shape[-1], (3,3) ,padding= 'SAME',name='blkA_Conv2d_2')\n",
    "        \n",
    "        \n",
    "        \n",
    "    def call(self, inputs, training=False):\n",
    "\n",
    "        x= self.blkA_BN_1(inputs,training=training)\n",
    "        x=tf.nn.relu(x)\n",
    "        x=self.blkA_Conv2d_1(x)\n",
    "        x=self.blkA_BN_2(x,training=training)\n",
    "        x=tf.nn.relu(x)\n",
    "        x=self.blkA_Conv2d_2(x)\n",
    "        x= inputs + x\n",
    "        return x\n",
    "    \n",
    "    \"\"\"\n",
    "    input_shape[-1] indicats number of filter in conv2d()\n",
    "    \n",
    "    \"\"\"\n"
   ]
  },
  {
   "cell_type": "code",
   "execution_count": 3,
   "metadata": {
    "colab": {
     "base_uri": "https://localhost:8080/"
    },
    "id": "onFmytNxgXnR",
    "outputId": "b30d1212-c07d-48ab-d15c-dd8eb650dbe8"
   },
   "outputs": [
    {
     "name": "stdout",
     "output_type": "stream",
     "text": [
      "Model: \"sequential\"\n",
      "_________________________________________________________________\n",
      "Layer (type)                 Output Shape              Param #   \n",
      "=================================================================\n",
      "block_A (Block_A)            (None, 28, 28, 1)         28        \n",
      "=================================================================\n",
      "Total params: 28\n",
      "Trainable params: 24\n",
      "Non-trainable params: 4\n",
      "_________________________________________________________________\n"
     ]
    }
   ],
   "source": [
    "test_model = tf.keras.Sequential([Block_A(input_shape=(28, 28, 1), name=\"block_A\")])\n",
    "test_model.summary()"
   ]
  },
  {
   "cell_type": "code",
   "execution_count": 4,
   "metadata": {
    "id": "Ea4TOJPWgXnR"
   },
   "outputs": [],
   "source": [
    "\"\"\"\n",
    "Creating a second custom layer\n",
    "\n",
    "\"\"\"\n",
    "\n",
    "class Block_B(Layer):\n",
    "\n",
    "    def __init__(self, out_filters, **kwargs):\n",
    "\n",
    "        super(Block_B, self).__init__(**kwargs)\n",
    "        self.out_filters=out_filters\n",
    "        \n",
    "        \n",
    "        \n",
    "    def build(self, input_shape):\n",
    "        \n",
    "        self.blkB_BN_1 = BatchNormalization(input_shape=input_shape) \n",
    "        self.blkB_conv2d_1 = Conv2D(input_shape[-1],(3,3),padding= 'SAME',name = 'blkB_conv2d_1')\n",
    "        self.blkB_BN_2 = BatchNormalization() \n",
    "        self.blkB_conv2d_2 = Conv2D(self.out_filters,(3,3),padding= 'SAME', name = 'blkB_conv2d_2')\n",
    "        self.blkB_conv2d_3 = Conv2D(self.out_filters,(1,1),padding= 'SAME', name = 'blkB_conv2d_3')\n",
    "        \n",
    "        \n",
    "        \n",
    "    def call(self, inputs, training=False):\n",
    "\n",
    "        x = self.blkB_BN_1(inputs,training=training)\n",
    "        x = tf.nn.relu(x)\n",
    "        x = self.blkB_conv2d_1(x)\n",
    "        x = self.blkB_BN_2(x)\n",
    "        x = tf.nn.relu(x)\n",
    "        x = self.blkB_conv2d_2(x)\n",
    "        x = x + self.blkB_conv2d_3(inputs)\n",
    "        return x\n",
    "        \n",
    "        "
   ]
  },
  {
   "cell_type": "code",
   "execution_count": 5,
   "metadata": {
    "colab": {
     "base_uri": "https://localhost:8080/"
    },
    "id": "Z5yk04QLgXnS",
    "outputId": "73ad6b78-a93a-46eb-bcd7-f61031c40796"
   },
   "outputs": [
    {
     "name": "stdout",
     "output_type": "stream",
     "text": [
      "Model: \"sequential_1\"\n",
      "_________________________________________________________________\n",
      "Layer (type)                 Output Shape              Param #   \n",
      "=================================================================\n",
      "block_B (Block_B)            (None, 32, 32, 16)        620       \n",
      "=================================================================\n",
      "Total params: 620\n",
      "Trainable params: 608\n",
      "Non-trainable params: 12\n",
      "_________________________________________________________________\n"
     ]
    }
   ],
   "source": [
    "test_model = tf.keras.Sequential([Block_B(16, input_shape=(32, 32, 3), name=\"block_B\")])\n",
    "test_model.summary()"
   ]
  },
  {
   "cell_type": "code",
   "execution_count": 6,
   "metadata": {
    "id": "-M7smTxngXnT"
   },
   "outputs": [],
   "source": [
    "\"\"\"\n",
    "Creating a custom model that integrate both created custom layers\n",
    "\n",
    "\"\"\"\n",
    "\n",
    "class ResidualCustomNetModel(Model):\n",
    "\n",
    "    def __init__(self, **kwargs):\n",
    "        \n",
    "        super(ResidualCustomNetModel, self).__init__(**kwargs)\n",
    "\n",
    "        self.mdl_conv2d_1 = Conv2D(32,(7,7),padding= 'SAME',strides = 2, name = 'mdl_conv2d_1')\n",
    "        self.mdl_Block_A = Block_A()\n",
    "        self.mdl_conv2d_2 = Conv2D(32,(3,3),padding= 'SAME',strides = 2, name = 'mdl_conv2d_2')\n",
    "        self.mdl_Block_B = Block_B(64)\n",
    "        self.mdl_flatten_layer = Flatten()\n",
    "        self.mdl_dense = Dense(10,activation='softmax')\n",
    "        \n",
    "        \n",
    "        \n",
    "    def call(self, inputs, training=False):\n",
    "       \n",
    "        x= self.mdl_conv2d_1(inputs)\n",
    "        x= self.mdl_Block_A(x,training=True)\n",
    "        x= self.mdl_conv2d_2(x)\n",
    "        x= self.mdl_Block_B(x, training=True)\n",
    "        x= self.mdl_flatten_layer(x)\n",
    "        x= self.mdl_dense(x)\n",
    "        \n",
    "        return x\n",
    "        "
   ]
  },
  {
   "cell_type": "code",
   "execution_count": 8,
   "metadata": {
    "id": "aU202LhqgXnT"
   },
   "outputs": [],
   "source": [
    "\"\"\"Create the model\"\"\"\n",
    "\n",
    "resnet_model = ResidualCustomNetModel()\n"
   ]
  },
  {
   "cell_type": "code",
   "execution_count": null,
   "metadata": {
    "id": "aQ5PzX_6gXnU"
   },
   "outputs": [],
   "source": [
    "\"\"\"\" Define the optimizer and loss function \"\"\"\"\n",
    "\n",
    "optimizer_obj = tf.keras.optimizers.Adam(learning_rate=0.001)\n",
    "loss_obj = tf.keras.losses.SparseCategoricalCrossentropy()"
   ]
  },
  {
   "cell_type": "code",
   "execution_count": null,
   "metadata": {
    "id": "E8a9EQo1gXnU"
   },
   "outputs": [],
   "source": [
    "\"\"\"\"Defining the grad function\"\"\"\"\n",
    "\n",
    "@tf.function\n",
    "def grad(model, inputs, targets, loss):\n",
    "\n",
    "    with tf.GradientTape() as tape:\n",
    "        \n",
    "        prediction = model(inputs)\n",
    "        \n",
    "        current_loss =loss(targets,prediction)\n",
    "        \n",
    "        grads = tape.gradient( current_loss, model.trainable_variables )\n",
    "        \n",
    "        return current_loss, grads\n",
    "    \n",
    "    \n",
    "    "
   ]
  },
  {
   "cell_type": "code",
   "execution_count": null,
   "metadata": {
    "id": "Kfj_hlSkgXnV"
   },
   "outputs": [],
   "source": [
    "\"\"\"Defining the custom training loop\"\"\"\n",
    "\n",
    "def train_resnet(model, num_epochs, dataset, optimizer, loss, grad_fn):\n",
    "\n",
    "    start_time = time.time()\n",
    "    \n",
    "    # save records for plotting\n",
    "    train_loss_results = []\n",
    "    train_accuracy_results = []\n",
    "\n",
    "\n",
    "\n",
    "    for epoch in range(num_epochs):\n",
    "  \n",
    "        epoch_loss_avg= tf.keras.metrics.Mean()\n",
    "        epoch_accuracy= tf.keras.metrics.CategoricalAccuracy()\n",
    "\n",
    "            # Training loop\n",
    "        for inputs , targets in dataset:\n",
    "        \n",
    "            #Optimize the model\n",
    "            loss_value , grads = grad_fn(model, inputs , targets, loss)\n",
    "            optimizer.apply_gradients(zip(grads,model.trainable_variables))\n",
    "            \n",
    "            # Compute current loss\n",
    "            epoch_loss_avg(loss_value)\n",
    "            \n",
    "            # Compute predicted label vs actual label\n",
    "            epoch_accuracy(to_categorical(targets), model(inputs))\n",
    "\n",
    "        #End of epoch\n",
    "        train_loss_results.append(epoch_loss_avg.result())\n",
    "        train_accuracy_results.append(epoch_accuracy.result())\n",
    "\n",
    "        print(\"Epoch {:03d}: Loss: {:.3f} , Accuracy: {:.3%} \".format(epoch,\n",
    "                                                                epoch_loss_avg.result(),\n",
    "                                                                epoch_accuracy.result()))\n",
    "    \n",
    "    print(\"Duration :{:.3f}\".format(time.time() - start_time)) \n",
    "    \n",
    "    return train_loss_results, train_accuracy_results\n",
    "       "
   ]
  },
  {
   "cell_type": "code",
   "execution_count": null,
   "metadata": {
    "id": "xen0oAwHgXnW",
    "outputId": "665ae263-e3ee-4923-9a3d-f26e883d4ac6"
   },
   "outputs": [
    {
     "name": "stdout",
     "output_type": "stream",
     "text": [
      "Epoch 000: Loss: 0.680 , Accuracy: 81.320% \n",
      "Epoch 001: Loss: 0.406 , Accuracy: 88.080% \n",
      "Epoch 002: Loss: 0.310 , Accuracy: 92.280% \n",
      "Epoch 003: Loss: 0.244 , Accuracy: 94.980% \n",
      "Epoch 004: Loss: 0.227 , Accuracy: 95.640% \n",
      "Epoch 005: Loss: 0.221 , Accuracy: 96.120% \n",
      "Epoch 006: Loss: 0.190 , Accuracy: 96.740% \n",
      "Epoch 007: Loss: 0.161 , Accuracy: 97.760% \n",
      "Duration :473.056\n"
     ]
    }
   ],
   "source": [
    "# Train the model\n",
    "# epoch is 8\n",
    "\n",
    "train_loss_results, train_accuracy_results = train_resnet(resnet_model, 8, train_dataset, optimizer_obj, loss_obj, grad)"
   ]
  },
  {
   "cell_type": "code",
   "execution_count": null,
   "metadata": {
    "id": "O0DUS9w9gXnX",
    "outputId": "a9938558-7bd1-4307-c314-c8a2e9749173"
   },
   "outputs": [
    {
     "data": {
      "image/png": "[encoded data removed]",
      "text/plain": [
       "<Figure size 864x360 with 2 Axes>"
      ]
     },
     "metadata": {
      "needs_background": "light",
      "tags": []
     },
     "output_type": "display_data"
    }
   ],
   "source": [
    "# Computing the train loss and accuracy\n",
    "\n",
    "fig, axes = plt.subplots(1, 2, sharex=True, figsize=(12, 5))\n",
    "\n",
    "axes[0].set_xlabel(\"Epochs\", fontsize=14)\n",
    "axes[0].set_ylabel(\"Loss\", fontsize=14)\n",
    "axes[0].set_title('Loss vs epochs')\n",
    "axes[0].plot(train_loss_results)\n",
    "\n",
    "axes[1].set_title('Accuracy vs epochs')\n",
    "axes[1].set_ylabel(\"Accuracy\", fontsize=14)\n",
    "axes[1].set_xlabel(\"Epochs\", fontsize=14)\n",
    "axes[1].plot(train_accuracy_results)\n",
    "plt.show()"
   ]
  },
  {
   "cell_type": "code",
   "execution_count": null,
   "metadata": {
    "id": "Lk-XCAgZgXnY",
    "outputId": "1016630c-ae15-4831-a17c-ddbf9c69ba91"
   },
   "outputs": [
    {
     "name": "stdout",
     "output_type": "stream",
     "text": [
      "Test loss: 0.696\n",
      "Test accuracy: 83.240%\n"
     ]
    }
   ],
   "source": [
    "# Computing the test loss and accuracy\n",
    "\n",
    "epoch_loss_avg = tf.keras.metrics.Mean()\n",
    "epoch_accuracy = tf.keras.metrics.CategoricalAccuracy()\n",
    "\n",
    "for x, y in test_dataset:\n",
    "    model_output = resnet_model(x)\n",
    "    epoch_loss_avg(loss_obj(y, model_output))  \n",
    "    epoch_accuracy(to_categorical(y), model_output)\n",
    "\n",
    "print(\"Test loss: {:.3f}\".format(epoch_loss_avg.result().numpy()))\n",
    "print(\"Test accuracy: {:.3%}\".format(epoch_accuracy.result().numpy()))"
   ]
  },
  {
   "cell_type": "code",
   "execution_count": null,
   "metadata": {
    "id": "YboRMxJegXnY",
    "outputId": "1b36c5c7-684f-4af3-f046-ad82138da296"
   },
   "outputs": [
    {
     "data": {
      "image/png": "[encoded data removed]",
      "text/plain": [
       "<Figure size 1152x864 with 8 Axes>"
      ]
     },
     "metadata": {
      "needs_background": "light",
      "tags": []
     },
     "output_type": "display_data"
    }
   ],
   "source": [
    "\"\"\"Model predictions\"\"\"\n",
    "\n",
    "num_test_images = test_images.shape[0]\n",
    "\n",
    "random_inx = np.random.choice(test_images.shape[0], 4)\n",
    "random_test_images = test_images[random_inx, ...]\n",
    "random_test_labels = test_labels[random_inx, ...]\n",
    "\n",
    "predictions = resnet_model(random_test_images)\n",
    "\n",
    "fig, axes = plt.subplots(4, 2, figsize=(16, 12))\n",
    "fig.subplots_adjust(hspace=0.5, wspace=-0.2)\n",
    "\n",
    "for i, (prediction, image, label) in enumerate(zip(predictions, random_test_images, random_test_labels)):\n",
    "    axes[i, 0].imshow(np.squeeze(image))\n",
    "    axes[i, 0].get_xaxis().set_visible(False)\n",
    "    axes[i, 0].get_yaxis().set_visible(False)\n",
    "    axes[i, 0].text(5., -2., f'Class {label} ({image_labels[label]})')\n",
    "    axes[i, 1].bar(np.arange(len(prediction)), prediction)\n",
    "    axes[i, 1].set_xticks(np.arange(len(prediction)))\n",
    "    axes[i, 1].set_xticklabels(image_labels, rotation=0)\n",
    "    pred_inx = np.argmax(prediction)\n",
    "    axes[i, 1].set_title(f\"Categorical distribution. Model prediction: {image_labels[pred_inx]}\")\n",
    "    \n",
    "plt.show()"
   ]
  }
 ],
 "metadata": {
  "accelerator": "GPU",
  "colab": {
   "collapsed_sections": [],
   "name": "2_Classification_Custom_layers_and_custom_model_ResNet.ipynb",
   "provenance": []
  },
  "coursera": {
   "course_slug": "tensor-flow-2-2",
   "graded_item_id": "2x3vn",
   "launcher_item_id": "QKXZc"
  },
  "kernelspec": {
   "display_name": "Python 3",
   "language": "python",
   "name": "python3"
  },
  "language_info": {
   "codemirror_mode": {
    "name": "ipython",
    "version": 3
   },
   "file_extension": ".py",
   "mimetype": "text/x-python",
   "name": "python",
   "nbconvert_exporter": "python",
   "pygments_lexer": "ipython3",
   "version": "3.6.10"
  }
 },
 "nbformat": 4,
 "nbformat_minor": 1
}
